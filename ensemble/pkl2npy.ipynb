{
 "cells": [
  {
   "cell_type": "code",
   "execution_count": null,
   "metadata": {},
   "outputs": [],
   "source": [
    "import os,pickle\n",
    "import numpy as np\n",
    "\n",
    "\n",
    "# 遍历指定目录下的所有文件和子目录\n",
    "for root, dirs, files in os.walk('./testB'):\n",
    "    all_values = []\n",
    "    for file in files:\n",
    "        # 检查文件扩展名是否为 .pkl\n",
    "        if file.endswith('.pkl'):\n",
    "            file_path = os.path.join(root, file)\n",
    "            output_file=file_path.replace('.pkl', '.npy')\n",
    "            \n",
    "            # 打开并加载 .pkl 文件\n",
    "            with open(file_path, 'rb') as f:\n",
    "                data_dict = pickle.load(f)\n",
    "\n",
    "                for it in data_dict:\n",
    "                    print(data_dict[it])\n",
    "                    all_values.append(data_dict[it])\n",
    "                "
   ]
  },
  {
   "cell_type": "code",
   "execution_count": null,
   "metadata": {},
   "outputs": [],
   "source": [
    "import numpy as np\n",
    "\n",
    "# 加载 .npy 文件\n",
    "data = np.load('ctrgcn-B.npy')\n",
    "\n",
    "print(len(data))"
   ]
  }
 ],
 "metadata": {
  "kernelspec": {
   "display_name": "robot",
   "language": "python",
   "name": "python3"
  },
  "language_info": {
   "codemirror_mode": {
    "name": "ipython",
    "version": 3
   },
   "file_extension": ".py",
   "mimetype": "text/x-python",
   "name": "python",
   "nbconvert_exporter": "python",
   "pygments_lexer": "ipython3",
   "version": "3.10.15"
  }
 },
 "nbformat": 4,
 "nbformat_minor": 2
}
